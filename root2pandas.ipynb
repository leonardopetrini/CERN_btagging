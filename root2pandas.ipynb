{
 "cells": [
  {
   "cell_type": "markdown",
   "metadata": {},
   "source": [
    "# Convert .root file to Pandas dataframe"
   ]
  },
  {
   "cell_type": "code",
   "execution_count": null,
   "metadata": {},
   "outputs": [],
   "source": [
    "%load_ext autoreload\n",
    "%autoreload 2\n",
    "from bob import *\n",
    "import pickle"
   ]
  },
  {
   "cell_type": "markdown",
   "metadata": {},
   "source": [
    "Define input file name and variables to extract"
   ]
  },
  {
   "cell_type": "code",
   "execution_count": null,
   "metadata": {},
   "outputs": [],
   "source": [
    "inputFileName = 'Hybrid_25_July_bugfixed_fullStat'\n",
    "\n",
    "b_jets_only = False #Extract only b-jets\n",
    "\n",
    "cols = ['jet_pt', 'jet_eta', \\\n",
    "         'jet_ip2d_pb','jet_ip2d_pc','jet_ip2d_pu', 'jet_ip3d_pb','jet_ip3d_pc','jet_ip3d_pu',\\\n",
    "         'jet_sv1_m','jet_sv1_efc','jet_sv1_ntrkv','jet_sv1_n2t', 'jet_sv1_sig3d',\\\n",
    "         'jet_jf_n2t','jet_jf_m','jet_sv1_Lxy','jet_sv1_L3d','jet_sv1_deltaR', 'jet_jf_nvtx1t', \\\n",
    "         'jet_jf_nvtx','jet_jf_ntrkAtVx','jet_jf_dRFlightDir','jet_jf_sig3d','jet_jf_efc','jet_JVT', 'jet_mv2c10',\\\n",
    "         'jet_LabDr_HadF',]#'jet_bH_pt'] # 'jet_dl1_pb', 'jet_dl1_pc', 'jet_dl1_pu']"
   ]
  },
  {
   "cell_type": "markdown",
   "metadata": {},
   "source": [
    "Iterate over root file and save pandas df into .pkl file"
   ]
  },
  {
   "cell_type": "markdown",
   "metadata": {},
   "source": [
    "compute both llr for IP2D and IP3D, apply MV2 jets preselection and sample reweighting"
   ]
  },
  {
   "cell_type": "code",
   "execution_count": null,
   "metadata": {},
   "outputs": [],
   "source": [
    "i = 0\n",
    "chunksize = int(1e6)\n",
    "\n",
    "for df in read_root(inputFileName + '.root', 'bTag_AntiKt4EMTopoJets', columns=cols, flatten=True, chunksize=chunksize):\n",
    "    tree = df\n",
    "    tree = tree.drop('__array_index', 1)\n",
    "    if b_jets_only:\n",
    "        tree = tree[tree['jet_LabDr_HadF'] == 5]\n",
    "    tree = compute_log_likelihood_ratios(tree)\n",
    "    tree = jets_preselection(tree)\n",
    "    tree['weights'] = sample_reweighting(tree)\n",
    "    \n",
    "    if i == 0:\n",
    "        tree_all = tree\n",
    "    else:\n",
    "        tree_all.append(tree)\n",
    "    i+=1\n",
    "\n",
    "tree_all.to_pickle(inputFileName + '.pkl')"
   ]
  }
 ],
 "metadata": {
  "kernelspec": {
   "display_name": "Python 2",
   "language": "python",
   "name": "python2"
  },
  "language_info": {
   "codemirror_mode": {
    "name": "ipython",
    "version": 2
   },
   "file_extension": ".py",
   "mimetype": "text/x-python",
   "name": "python",
   "nbconvert_exporter": "python",
   "pygments_lexer": "ipython2",
   "version": "2.7.13"
  }
 },
 "nbformat": 4,
 "nbformat_minor": 2
}
