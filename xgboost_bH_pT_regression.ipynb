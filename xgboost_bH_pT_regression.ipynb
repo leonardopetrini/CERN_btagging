{
 "cells": [
  {
   "cell_type": "markdown",
   "metadata": {},
   "source": [
    "# XGBoost for b-hadron pT regression"
   ]
  },
  {
   "cell_type": "code",
   "execution_count": 1,
   "metadata": {},
   "outputs": [
    {
     "name": "stdout",
     "output_type": "stream",
     "text": [
      "Welcome to JupyROOT 6.12/06\n"
     ]
    }
   ],
   "source": [
    "%load_ext autoreload\n",
    "%autoreload 2\n",
    "import xgboost as xgb\n",
    "from bob import *\n",
    "import matplotlib\n",
    "import matplotlib.pyplot as plt\n",
    "from matplotlib.gridspec import GridSpec"
   ]
  },
  {
   "cell_type": "markdown",
   "metadata": {},
   "source": [
    "Load dataframe"
   ]
  },
  {
   "cell_type": "code",
   "execution_count": 2,
   "metadata": {},
   "outputs": [],
   "source": [
    "inputFileName = 'MC16d_newTrain_Zprime.pkl'\n",
    "\n",
    "# Subsample the dataset for fast execution\n",
    "subsampleFlag = True"
   ]
  },
  {
   "cell_type": "code",
   "execution_count": 3,
   "metadata": {},
   "outputs": [],
   "source": [
    "tree = pd.read_pickle(inputFileName)\n",
    "features = select_features(tree, to_remove=[])\n",
    "\n",
    "# jet_bH_pt is in lists of one element, this takes it out\n",
    "tree['jet_bH_pt'] = tree['jet_bH_pt'].apply(lambda x: x[0])\n",
    "\n",
    "# Select only b_jets\n",
    "tree = tree[tree['jet_LabDr_HadF'] == 5]\n",
    "\n",
    "if subsampleFlag:\n",
    "    tree = tree.head(int(tree.shape[0]*0.1))\n",
    "    \n",
    "# Replace missing values with NaNs\n",
    "d = dict.fromkeys([-100, -1, -99, -1000], np.nan)\n",
    "tree.replace(d, inplace=True)\n",
    "\n",
    "train, test = train_test_splitting(tree, )"
   ]
  },
  {
   "cell_type": "code",
   "execution_count": 4,
   "metadata": {},
   "outputs": [],
   "source": [
    "# Save pt_std to rescale pT in regression\n",
    "bH_pt_std = np.std(tree['jet_bH_pt'].values)"
   ]
  },
  {
   "cell_type": "code",
   "execution_count": 6,
   "metadata": {},
   "outputs": [],
   "source": [
    "# Wrap data into DMatrix, optimized for XGBoost, log is used to force positive predictions\n",
    "train_dmatrix = xgb.DMatrix(data=train[features], label=np.log(train['jet_bH_pt']/bH_pt_std), nthread=-1, weight=train['weights'])\n",
    "test_dmatrix = xgb.DMatrix(data=test[features], label=np.log(test['jet_bH_pt']/bH_pt_std), nthread=-1, weight=test['weights'])"
   ]
  },
  {
   "cell_type": "markdown",
   "metadata": {},
   "source": [
    "Define the classifier"
   ]
  },
  {
   "cell_type": "code",
   "execution_count": 9,
   "metadata": {},
   "outputs": [],
   "source": [
    "params = {\n",
    "    'objective':'reg:linear',\n",
    "    'max_depth':20,\n",
    "    'gamma':.01,\n",
    "    'min_child_weight':1,\n",
    "    'colsample_bytree': .8,\n",
    "    'eta':.3,\n",
    "    'subsample':.8,\n",
    "    'silent':True\n",
    "}"
   ]
  },
  {
   "cell_type": "markdown",
   "metadata": {},
   "source": [
    "Training"
   ]
  },
  {
   "cell_type": "code",
   "execution_count": 10,
   "metadata": {},
   "outputs": [
    {
     "name": "stdout",
     "output_type": "stream",
     "text": [
      "CPU times: user 1h 9min 52s, sys: 18.9 s, total: 1h 10min 11s\n",
      "Wall time: 17min 34s\n"
     ]
    }
   ],
   "source": [
    "%%time\n",
    "xg_clf = xgb.train(params, train_dmatrix, num_boost_round=1000)"
   ]
  },
  {
   "cell_type": "markdown",
   "metadata": {},
   "source": [
    "Testing"
   ]
  },
  {
   "cell_type": "code",
   "execution_count": 11,
   "metadata": {},
   "outputs": [
    {
     "ename": "SyntaxError",
     "evalue": "invalid syntax (<ipython-input-11-f49dbe5b66fd>, line 1)",
     "output_type": "error",
     "traceback": [
      "\u001b[0;36m  File \u001b[0;32m\"<ipython-input-11-f49dbe5b66fd>\"\u001b[0;36m, line \u001b[0;32m1\u001b[0m\n\u001b[0;31m    predicted_probabilities = = xg_clf.predict(test_dmatrix)\u001b[0m\n\u001b[0m                              ^\u001b[0m\n\u001b[0;31mSyntaxError\u001b[0m\u001b[0;31m:\u001b[0m invalid syntax\n"
     ]
    }
   ],
   "source": [
    "predicted_probabilities = = xg_clf.predict(test_dmatrix)\n",
    "predicted_probabilities = np.exp(predicted_probabilities)*bH_pt_std"
   ]
  },
  {
   "cell_type": "markdown",
   "metadata": {},
   "source": [
    "Plot b-hadron pT (True and Predicted) / jet_pt distribution"
   ]
  },
  {
   "cell_type": "code",
   "execution_count": null,
   "metadata": {},
   "outputs": [],
   "source": [
    "plt.figure(figsize=(15,7))\n",
    "plt.hist((pt_pred/tree['jet_pt'], tree['jet_bH_pt']/tree['jet_pt']), \\\n",
    "         log=True, density=False, label=('prediction','true'), bins=300, histtype = 'step');\n",
    "plt.grid()\n",
    "plt.xlim([0,6])\n",
    "plt.legend()\n",
    "plt.show()"
   ]
  },
  {
   "cell_type": "markdown",
   "metadata": {},
   "source": [
    "Plot 2D histograms with fit"
   ]
  },
  {
   "cell_type": "code",
   "execution_count": null,
   "metadata": {},
   "outputs": [],
   "source": [
    "import matplotlib\n",
    "\n",
    "x = np.linspace(0,1.4,50)\n",
    "\n",
    "plt.figure(1,) #figsize=(10,6))\n",
    "degrees = [1]       # list of degrees of x to use\n",
    "matrix = np.stack([tree['jet_bH_pt']**d for d in degrees], axis=-1)   # stack them like columns\n",
    "#slope, r, _, _ = np.linalg.lstsq(matrix, pt_pred)\n",
    "slope = 1\n",
    "plt.plot(x, x*slope, 'r')\n",
    "print(slope, 1-sum((tree['jet_bH_pt'] - pt_pred)**2)/sum((pt_pred - pt_pred.mean())**2) )\n",
    "\n",
    "h = np.histogram2d(tree['jet_bH_pt'], pt_pred, bins=(np.linspace(0,1.4e6,112),np.linspace(0,1.4e6,112)))\n",
    "plt.imshow(h[0].T, norm=matplotlib.colors.LogNorm(), extent=[0,1.4,0,1.4], origin='lower')\n",
    "plt.xlabel('jet_bH_pt [TeV]')\n",
    "plt.ylabel('regression_pt [TeV]')\n",
    "plt.colorbar()\n",
    "plt.grid()\n",
    "plt.show()\n",
    "\n",
    "plt.figure(2,) #figsize=(10,6))\n",
    "\n",
    "slope, r, _, _ = np.linalg.lstsq(matrix, tree['jet_pt'])\n",
    "plt.plot(x, x*slope, 'r')\n",
    "print(slope, 1-r/sum((tree['jet_pt'] - tree['jet_pt'].mean())**2) )\n",
    "\n",
    "h = np.histogram2d(tree['jet_bH_pt'], tree['jet_pt'], bins=(np.linspace(0,1.4e6,112),np.linspace(0,1.4e6,112)))\n",
    "plt.imshow(h[0].T, norm=matplotlib.colors.LogNorm(), extent=[0,1.4,0,1.4], origin='lower')\n",
    "plt.xlabel('jet_bH_pt [TeV]')\n",
    "plt.ylabel('jet_pt [TeV]')\n",
    "plt.colorbar()\n",
    "plt.grid()\n",
    "plt.show()"
   ]
  },
  {
   "cell_type": "markdown",
   "metadata": {},
   "source": [
    "Features importance"
   ]
  },
  {
   "cell_type": "code",
   "execution_count": null,
   "metadata": {},
   "outputs": [],
   "source": [
    "fig, ax = plt.subplots(figsize=(5.5,5))\n",
    "xgb.plot_importance(xg_clf, max_num_features=10, height=0.3, ax=ax)\n",
    "plt.show()"
   ]
  }
 ],
 "metadata": {
  "kernelspec": {
   "display_name": "Python 2",
   "language": "python",
   "name": "python2"
  },
  "language_info": {
   "codemirror_mode": {
    "name": "ipython",
    "version": 2
   },
   "file_extension": ".py",
   "mimetype": "text/x-python",
   "name": "python",
   "nbconvert_exporter": "python",
   "pygments_lexer": "ipython2",
   "version": "2.7.13"
  }
 },
 "nbformat": 4,
 "nbformat_minor": 2
}
